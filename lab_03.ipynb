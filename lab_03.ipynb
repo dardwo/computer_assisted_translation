{
 "cells": [
  {
   "cell_type": "markdown",
   "id": "coastal-lincoln",
   "metadata": {},
   "source": [
    "![Logo 1](https://git.wmi.amu.edu.pl/AITech/Szablon/raw/branch/master/Logotyp_AITech1.jpg)\n",
    "<div class=\"alert alert-block alert-info\">\n",
    "<h1> Komputerowe wspomaganie tłumaczenia </h1>\n",
    "<h2> 3. <i>Terminologia</i> [laboratoria]</h2> \n",
    "<h3>Rafał Jaworski (2021)</h3>\n",
    "</div>\n",
    "\n",
    "![Logo 2](https://git.wmi.amu.edu.pl/AITech/Szablon/raw/branch/master/Logotyp_AITech2.jpg)"
   ]
  },
  {
   "cell_type": "markdown",
   "id": "aggregate-listing",
   "metadata": {},
   "source": [
    "Na dzisiejszych zajęciach zajmiemy się bliżej słownikami używanymi do wspomagania tłumaczenia. Oczywiście na rynku dostępnych jest bardzo wiele słowników w formacie elektronicznym. Wiele z nich jest gotowych do użycia w SDL Trados, memoQ i innych narzędziach CAT. Zawierają one setki tysięcy lub miliony haseł i oferują natychmiastową pomoc tłumaczowi."
   ]
  },
  {
   "cell_type": "markdown",
   "id": "israeli-excuse",
   "metadata": {},
   "source": [
    "Problem jednak w tym, iż często nie zawierają odpowiedniej terminologii specjalistycznej - używanej przez klienta zamawiającego tłumaczenie. Terminy specjalistyczne są bardzo częste w tekstach tłumaczonych ze względu na następujące zjawiska:\n",
    "- Teksty o tematyce ogólnej są tłumaczone dość rzadko (nikt nie tłumaczy pocztówek z pozdrowieniami z wakacji...)\n",
    "- Te same słowa mogą mieć zarówno znaczenie ogólne, jak i bardzo specjalistyczne (np. \"dziedziczenie\" w kontekście prawnym lub informatycznym)\n",
    "- Klient używa nazw lub słów wymyślonych przez siebie, np. na potrzeby marketingowe."
   ]
  },
  {
   "cell_type": "markdown",
   "id": "reflected-enforcement",
   "metadata": {},
   "source": [
    "Nietrywialnymi zadaniami stają się: odnalezienie terminu specjalistycznego w tekście źródłowym oraz podanie prawidłowego tłumaczenia tego terminu na język docelowy"
   ]
  },
  {
   "cell_type": "markdown",
   "id": "statutory-florist",
   "metadata": {},
   "source": [
    "Brzmi prosto? Spróbujmy wykonać ręcznie tę drugą operację."
   ]
  },
  {
   "cell_type": "markdown",
   "id": "danish-anchor",
   "metadata": {},
   "source": [
    "### Ćwiczenie 1: Podaj tłumaczenie terminu \"prowadnice szaf metalowych\" na język angielski. Opisz, z jakich narzędzi skorzystałaś/eś."
   ]
  },
  {
   "cell_type": "markdown",
   "id": "diverse-sunglasses",
   "metadata": {},
   "source": [
    "Odpowiedź: \n",
    "- Google tłumacz: metal cabinet guides, \n",
    "- Chat GPT: metal cabinet rails lub metal cabinet slides,\n",
    "- PONS: metal cabinet guides\n",
    "\n",
    "\n"
   ]
  },
  {
   "cell_type": "markdown",
   "id": "limited-waterproof",
   "metadata": {},
   "source": [
    "W dalszych ćwiczeniach skupimy się jednak na odszukaniu terminu specjalistycznego w tekście. W tym celu będą potrzebne dwie operacje:\n",
    "1. Przygotowanie słownika specjalistycznego.\n",
    "2. Detekcja terminologii przy użyciu przygotowanego słownika specjalistycznego."
   ]
  },
  {
   "cell_type": "markdown",
   "id": "literary-blues",
   "metadata": {},
   "source": [
    "Zajmijmy się najpierw krokiem nr 2 (gdyż jest prostszy). Rozważmy następujący tekst:"
   ]
  },
  {
   "cell_type": "code",
   "execution_count": 2,
   "id": "loving-prince",
   "metadata": {},
   "outputs": [],
   "source": [
    "text = \" For all Java programmers:\"\n",
    "text += \" This section explains how to compile and run a Swing application from the command line.\"\n",
    "text += \" For information on compiling and running a Swing application using NetBeans IDE,\"\n",
    "text += \" see Running Tutorial Examples in NetBeans IDE. The compilation instructions work for all Swing programs\"\n",
    "text += \" — applets, as well as applications. Here are the steps you need to follow:\"\n",
    "text += \" Install the latest release of the Java SE platform, if you haven't already done so.\"\n",
    "text += \" Create a program that uses Swing components. Compile the program. Run the program.\""
   ]
  },
  {
   "cell_type": "markdown",
   "id": "extreme-cycling",
   "metadata": {},
   "source": [
    "Załóżmy, że posiadamy następujący słownik:"
   ]
  },
  {
   "cell_type": "code",
   "execution_count": 28,
   "id": "bound-auction",
   "metadata": {},
   "outputs": [],
   "source": [
    "dictionary = ['program', 'application', 'applet', 'compile']"
   ]
  },
  {
   "cell_type": "markdown",
   "id": "other-trinidad",
   "metadata": {},
   "source": [
    "### Ćwiczenie 2: Napisz program, który wypisze pozycje wszystkich wystąpień poszczególnych terminów specjalistycznych. Dla każdego terminu należy wypisać listę par (pozycja_startowa, pozycja końcowa)."
   ]
  },
  {
   "cell_type": "code",
   "execution_count": 34,
   "id": "cognitive-cedar",
   "metadata": {},
   "outputs": [
    {
     "name": "stdout",
     "output_type": "stream",
     "text": [
      "{'program': [(468, 475), (516, 523), (533, 540)], 'application': [(80, 91), (164, 175)], 'applet': [], 'compile': [(56, 63)]}\n"
     ]
    }
   ],
   "source": [
    "import re\n",
    "\n",
    "def terminology_lookup(text, dictionary):\n",
    "    terminology_position = {term: [] for term in dictionary}\n",
    "\n",
    "    for term in dictionary:\n",
    "        pattern = re.compile(rf\"\\b{term}\\b\")\n",
    "        for match in pattern.finditer(text):\n",
    "            terminology_position[term].append((match.start(), match.end()))\n",
    "\n",
    "    return terminology_position\n",
    "\n",
    "print(terminology_lookup(text, dictionary))"
   ]
  },
  {
   "cell_type": "markdown",
   "id": "interior-things",
   "metadata": {},
   "source": [
    "Zwykłe wyszukiwanie w tekście ma pewne wady. Na przykład, gdy szukaliśmy słowa \"program\", złapaliśmy przypadkiem słowo \"programmer\". Złapaliśmy także słowo \"programs\", co jest poprawne, ale niepoprawnie podaliśmy jego pozycję w tekście."
   ]
  },
  {
   "cell_type": "markdown",
   "id": "aggressive-plane",
   "metadata": {},
   "source": [
    "Żeby poradzić sobie z tymi problemami, musimy wykorzystać techniki przetwarzania języka naturalnego. Wypróbujmy pakiet spaCy:\n",
    "\n",
    "`pip3 install spacy`\n",
    "\n",
    "oraz\n",
    "\n",
    "`python3 -m spacy download en_core_web_sm`"
   ]
  },
  {
   "cell_type": "code",
   "execution_count": 4,
   "id": "tribal-attention",
   "metadata": {},
   "outputs": [
    {
     "name": "stdout",
     "output_type": "stream",
     "text": [
      " \n",
      "for\n",
      "all\n",
      "Java\n",
      "programmer\n",
      ":\n",
      "this\n",
      "section\n",
      "explain\n",
      "how\n",
      "to\n",
      "compile\n",
      "and\n",
      "run\n",
      "a\n",
      "swing\n",
      "application\n",
      "from\n",
      "the\n",
      "command\n",
      "line\n",
      ".\n",
      "for\n",
      "information\n",
      "on\n",
      "compile\n",
      "and\n",
      "run\n",
      "a\n",
      "swing\n",
      "application\n",
      "use\n",
      "NetBeans\n",
      "IDE\n",
      ",\n",
      "see\n",
      "run\n",
      "Tutorial\n",
      "Examples\n",
      "in\n",
      "NetBeans\n",
      "IDE\n",
      ".\n",
      "the\n",
      "compilation\n",
      "instruction\n",
      "work\n",
      "for\n",
      "all\n",
      "Swing\n",
      "program\n",
      "—\n",
      "applet\n",
      ",\n",
      "as\n",
      "well\n",
      "as\n",
      "application\n",
      ".\n",
      "here\n",
      "be\n",
      "the\n",
      "step\n",
      "you\n",
      "need\n",
      "to\n",
      "follow\n",
      ":\n",
      "install\n",
      "the\n",
      "late\n",
      "release\n",
      "of\n",
      "the\n",
      "Java\n",
      "SE\n",
      "platform\n",
      ",\n",
      "if\n",
      "you\n",
      "have\n",
      "not\n",
      "already\n",
      "do\n",
      "so\n",
      ".\n",
      "create\n",
      "a\n",
      "program\n",
      "that\n",
      "use\n",
      "swing\n",
      "component\n",
      ".\n",
      "compile\n",
      "the\n",
      "program\n",
      ".\n",
      "run\n",
      "the\n",
      "program\n",
      ".\n"
     ]
    }
   ],
   "source": [
    "import spacy\n",
    "nlp = spacy.load(\"en_core_web_sm\")\n",
    "\n",
    "doc = nlp(text)\n",
    "\n",
    "for token in doc:\n",
    "    print(token.lemma_)"
   ]
  },
  {
   "cell_type": "markdown",
   "id": "regional-craft",
   "metadata": {},
   "source": [
    "Sukces! Nastąpił podział tekstu na słowa (tokenizacja) oraz sprowadzenie do formy podstawowej każdego słowa (lematyzacja)."
   ]
  },
  {
   "cell_type": "markdown",
   "id": "toxic-subsection",
   "metadata": {},
   "source": [
    "### Ćwiczenie 3: Zmodyfikuj program z ćwiczenia 2 tak, aby zwracał również odmienione słowa. Na przykład, dla słowa \"program\" powinien znaleźć również \"programs\", ustawiając pozycje w tekście odpowiednio dla słowa \"programs\". Wykorzystaj właściwość idx tokenu."
   ]
  },
  {
   "cell_type": "code",
   "execution_count": 35,
   "id": "surgical-demonstration",
   "metadata": {},
   "outputs": [
    {
     "name": "stdout",
     "output_type": "stream",
     "text": [
      "{'program': [(14, 25), (291, 299), (468, 475), (516, 523), (533, 540)], 'application': [(80, 91), (164, 175), (322, 334)], 'applet': [(302, 309)], 'compile': [(56, 63), (134, 143), (504, 511)]}\n"
     ]
    }
   ],
   "source": [
    "def terminology_lookup(text, dictionary):\n",
    "    doc = nlp(text)\n",
    "    terminology_position = {term: [] for term in dictionary}\n",
    "\n",
    "    for token in doc:\n",
    "        for term in dictionary:\n",
    "            if token.lemma_.lower().startswith(term.lower()):\n",
    "                terminology_position[term].append((token.idx, token.idx + len(token.text)))\n",
    "    \n",
    "    return terminology_position\n",
    "\n",
    "result = terminology_lookup(text, dictionary)\n",
    "print(result)\n",
    "\n"
   ]
  },
  {
   "cell_type": "markdown",
   "id": "straight-letter",
   "metadata": {},
   "source": [
    "Teraz czas zająć się problemem przygotowania słownika specjalistycznego. W tym celu napiszemy nasz własny ekstraktor terminologii. Wejściem do ekstraktora będzie tekst zawierający specjalistyczną terminologię. Wyjściem - lista terminów."
   ]
  },
  {
   "cell_type": "markdown",
   "id": "nearby-frontier",
   "metadata": {},
   "source": [
    "Przyjmijmy następujące podejście - terminami specjalistycznymi będą najcześćiej występujące rzeczowniki w tekście. Wykonajmy krok pierwszy:"
   ]
  },
  {
   "cell_type": "markdown",
   "id": "harmful-lightning",
   "metadata": {},
   "source": [
    "### Ćwiczenie 4: Wypisz wszystkie rzeczowniki z tekstu. Wykorzystaj możliwości spaCy."
   ]
  },
  {
   "cell_type": "code",
   "execution_count": 36,
   "id": "superb-butterfly",
   "metadata": {},
   "outputs": [
    {
     "name": "stdout",
     "output_type": "stream",
     "text": [
      "['programmer', 'section', 'swing', 'application', 'command', 'line', 'information', 'swing', 'application', 'compilation', 'instruction', 'program', 'applet', 'application', 'step', 'release', 'platform', 'program', 'swing', 'component', 'program', 'program']\n"
     ]
    }
   ],
   "source": [
    "def get_nouns(text):\n",
    "    doc = nlp(text)\n",
    "    all_nouns = []\n",
    "    for token in doc:\n",
    "        if token.pos_ == \"NOUN\":\n",
    "            #print(token.text)\n",
    "            #print(token.lemma_)\n",
    "            all_nouns.append(token.lemma_)\n",
    "            #print(all_nouns)\n",
    "    return all_nouns\n",
    "\n",
    "text = \" For all Java programmers:\"\n",
    "text += \" This section explains how to compile and run a Swing application from the command line.\"\n",
    "text += \" For information on compiling and running a Swing application using NetBeans IDE,\"\n",
    "text += \" see Running Tutorial Examples in NetBeans IDE. The compilation instructions work for all Swing programs\"\n",
    "text += \" — applets, as well as applications. Here are the steps you need to follow:\"\n",
    "text += \" Install the latest release of the Java SE platform, if you haven't already done so.\"\n",
    "text += \" Create a program that uses Swing components. Compile the program. Run the program.\"\n",
    "\n",
    "all_nouns_in_text = get_nouns(text)\n",
    "print(all_nouns_in_text)"
   ]
  },
  {
   "cell_type": "markdown",
   "id": "musical-creator",
   "metadata": {},
   "source": [
    "Teraz czas na podliczenie wystąpień poszczególnych rzeczowników. Uwaga - różne formy tego samego słowa zliczamy razem jako wystąpienia tego słowa (np. \"program\" i \"programs\"). Najwygodniejszą metodą podliczania jest zastosowanie tzw. tally (po polsku \"zestawienie\"). Jest to słownik, którego kluczem jest słowo w formie podstawowej, a wartością liczba wystąpień tego słowa, wliczając słowa odmienione. Przykład gotowego tally:"
   ]
  },
  {
   "cell_type": "code",
   "execution_count": 37,
   "id": "acting-tolerance",
   "metadata": {},
   "outputs": [],
   "source": [
    "tally = {\"program\" : 4, \"component\" : 1}"
   ]
  },
  {
   "cell_type": "markdown",
   "id": "vanilla-estimate",
   "metadata": {},
   "source": [
    "### Ćwiczenie 5: Napisz program do ekstrakcji terminologii z tekstu według powyższych wytycznych."
   ]
  },
  {
   "cell_type": "code",
   "execution_count": 43,
   "id": "eight-redhead",
   "metadata": {},
   "outputs": [
    {
     "name": "stdout",
     "output_type": "stream",
     "text": [
      "{'programmer': 1, 'section': 1, 'swing': 3, 'application': 3, 'command': 1, 'line': 1, 'information': 1, 'compilation': 1, 'instruction': 1, 'program': 4, 'applet': 1, 'step': 1, 'release': 1, 'platform': 1, 'component': 1}\n"
     ]
    }
   ],
   "source": [
    "from collections import Counter\n",
    "\n",
    "def extract_terms(text):\n",
    "    doc = nlp(text)\n",
    "    all_nouns = []\n",
    "    tally = {}\n",
    "    for token in doc:\n",
    "        if token.pos_ == \"NOUN\":\n",
    "            #print(token.text)\n",
    "            #print(token.lemma_)\n",
    "            all_nouns.append(token.lemma_)\n",
    "            #print(all_nouns)\n",
    "            \n",
    "    tally = Counter(all_nouns)\n",
    "    tally_dict = dict(tally)\n",
    "    return tally_dict\n",
    "\n",
    "text = \" For all Java programmers:\"\n",
    "text += \" This section explains how to compile and run a Swing application from the command line.\"\n",
    "text += \" For information on compiling and running a Swing application using NetBeans IDE,\"\n",
    "text += \" see Running Tutorial Examples in NetBeans IDE. The compilation instructions work for all Swing programs\"\n",
    "text += \" — applets, as well as applications. Here are the steps you need to follow:\"\n",
    "text += \" Install the latest release of the Java SE platform, if you haven't already done so.\"\n",
    "text += \" Create a program that uses Swing components. Compile the program. Run the program.\"\n",
    "\n",
    "tally_counter = extract_terms(text)\n",
    "print(tally_counter)\n"
   ]
  },
  {
   "cell_type": "markdown",
   "id": "loaded-smell",
   "metadata": {},
   "source": [
    "### Ćwiczenie 6: Rozszerz powyższy program o ekstrację czasowników i przymiotników."
   ]
  },
  {
   "cell_type": "code",
   "execution_count": 42,
   "id": "monetary-mambo",
   "metadata": {},
   "outputs": [
    {
     "name": "stdout",
     "output_type": "stream",
     "text": [
      "{'programmer': 1, 'section': 1, 'swing': 3, 'application': 3, 'command': 1, 'line': 1, 'information': 1, 'compilation': 1, 'instruction': 1, 'program': 4, 'applet': 1, 'step': 1, 'release': 1, 'platform': 1, 'component': 1}\n",
      "{'explain': 1, 'compile': 3, 'run': 4, 'use': 2, 'see': 1, 'work': 1, 'need': 1, 'follow': 1, 'install': 1, 'do': 1, 'create': 1}\n",
      "{'late': 1}\n"
     ]
    }
   ],
   "source": [
    "from collections import Counter\n",
    "\n",
    "def extract_terms(text):\n",
    "    doc = nlp(text)\n",
    "    all_nouns = []\n",
    "    all_verbs = []\n",
    "    all_adjectives = []\n",
    "    tally_nouns = {}\n",
    "    tally_verbs = {}\n",
    "    tally_adjectives = {}\n",
    "    \n",
    "    for token in doc:\n",
    "        if token.pos_ == \"NOUN\":\n",
    "            all_nouns.append(token.lemma_)\n",
    "        elif token.pos_ == \"VERB\":\n",
    "            all_verbs.append(token.lemma_)\n",
    "        elif token.pos_ == \"ADJ\":\n",
    "            all_adjectives.append(token.lemma_)\n",
    "            \n",
    "    tally_nouns = dict(Counter(all_nouns))\n",
    "    tally_verbs = dict(Counter(all_verbs))\n",
    "    tally_adjectives = dict(Counter(all_adjectives))\n",
    "    \n",
    "    return tally_nouns, tally_verbs, tally_adjectives\n",
    "\n",
    "\n",
    "text = \" For all Java programmers:\"\n",
    "text += \" This section explains how to compile and run a Swing application from the command line.\"\n",
    "text += \" For information on compiling and running a Swing application using NetBeans IDE,\"\n",
    "text += \" see Running Tutorial Examples in NetBeans IDE. The compilation instructions work for all Swing programs\"\n",
    "text += \" — applets, as well as applications. Here are the steps you need to follow:\"\n",
    "text += \" Install the latest release of the Java SE platform, if you haven't already done so.\"\n",
    "text += \" Create a program that uses Swing components. Compile the program. Run the program.\"\n",
    "\n",
    "tally_n, tally_v, tally_a = extract_terms(text)\n",
    "print(tally_n)\n",
    "print(tally_v)\n",
    "print(tally_a)\n"
   ]
  }
 ],
 "metadata": {
  "author": "Rafał Jaworski",
  "email": "rjawor@amu.edu.pl",
  "kernelspec": {
   "display_name": "Python 3",
   "language": "python",
   "name": "python3"
  },
  "lang": "pl",
  "language_info": {
   "codemirror_mode": {
    "name": "ipython",
    "version": 3
   },
   "file_extension": ".py",
   "mimetype": "text/x-python",
   "name": "python",
   "nbconvert_exporter": "python",
   "pygments_lexer": "ipython3",
   "version": "3.10.10"
  },
  "subtitle": "3. Terminologia",
  "title": "Komputerowe wspomaganie tłumaczenia",
  "year": "2021"
 },
 "nbformat": 4,
 "nbformat_minor": 5
}
